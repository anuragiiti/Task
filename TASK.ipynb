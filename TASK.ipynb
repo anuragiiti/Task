{
  "nbformat": 4,
  "nbformat_minor": 0,
  "metadata": {
    "colab": {
      "provenance": []
    },
    "kernelspec": {
      "name": "python3",
      "display_name": "Python 3"
    },
    "language_info": {
      "name": "python"
    }
  },
  "cells": [
    {
      "cell_type": "code",
      "execution_count": 1,
      "metadata": {
        "id": "PWfXn4SA9KLs"
      },
      "outputs": [],
      "source": [
        "import numpy as np\n",
        "import matplotlib.pyplot as plt\n",
        "import pandas as pd\n",
        "import tensorflow as tf"
      ]
    },
    {
      "cell_type": "markdown",
      "source": [
        "**IMPORTING DATASET**"
      ],
      "metadata": {
        "id": "s3J_PHwu-xq8"
      }
    },
    {
      "cell_type": "code",
      "source": [
        "train_dataset = pd.read_excel('train.xlsx')\n",
        "X_train = train_dataset.iloc[:, :-1].values\n",
        "y_train = train_dataset.iloc[:, -1].values\n",
        "test_dataset = pd.read_excel('test.xlsx')\n",
        "X_test = test_dataset.iloc[:,:]\n"
      ],
      "metadata": {
        "id": "iYs0CvF_ACju"
      },
      "execution_count": 2,
      "outputs": []
    },
    {
      "cell_type": "markdown",
      "source": [
        "**TASK-1**"
      ],
      "metadata": {
        "id": "lQ5BTZ9LgLNA"
      }
    },
    {
      "cell_type": "markdown",
      "source": [
        "**K-MEANS CLUSTERING**"
      ],
      "metadata": {
        "id": "fQiXhpW53adF"
      }
    },
    {
      "cell_type": "markdown",
      "source": [
        "*Using The Elbow Method To Find The Optimal Number Of Clusters*"
      ],
      "metadata": {
        "id": "O8cmW41V3sFN"
      }
    },
    {
      "cell_type": "code",
      "source": [
        "from sklearn.cluster import KMeans\n",
        "wcss = []\n",
        "for i in range(1, 11):\n",
        "    kmeans = KMeans(n_clusters = i, init = 'k-means++', random_state = 42)\n",
        "    kmeans.fit(X_train)\n",
        "    wcss.append(kmeans.inertia_)\n",
        "plt.plot(range(1, 11), wcss)\n",
        "plt.title('The Elbow Method')\n",
        "plt.xlabel('Number of clusters')\n",
        "plt.ylabel('WCSS')\n",
        "plt.show()"
      ],
      "metadata": {
        "colab": {
          "base_uri": "https://localhost:8080/",
          "height": 839
        },
        "id": "HAPgZJT-3rRL",
        "outputId": "a06cede3-d68b-4c0b-cd6e-833e289dd53e"
      },
      "execution_count": 3,
      "outputs": [
        {
          "output_type": "stream",
          "name": "stderr",
          "text": [
            "/usr/local/lib/python3.10/dist-packages/sklearn/cluster/_kmeans.py:870: FutureWarning: The default value of `n_init` will change from 10 to 'auto' in 1.4. Set the value of `n_init` explicitly to suppress the warning\n",
            "  warnings.warn(\n",
            "/usr/local/lib/python3.10/dist-packages/sklearn/cluster/_kmeans.py:870: FutureWarning: The default value of `n_init` will change from 10 to 'auto' in 1.4. Set the value of `n_init` explicitly to suppress the warning\n",
            "  warnings.warn(\n",
            "/usr/local/lib/python3.10/dist-packages/sklearn/cluster/_kmeans.py:870: FutureWarning: The default value of `n_init` will change from 10 to 'auto' in 1.4. Set the value of `n_init` explicitly to suppress the warning\n",
            "  warnings.warn(\n",
            "/usr/local/lib/python3.10/dist-packages/sklearn/cluster/_kmeans.py:870: FutureWarning: The default value of `n_init` will change from 10 to 'auto' in 1.4. Set the value of `n_init` explicitly to suppress the warning\n",
            "  warnings.warn(\n",
            "/usr/local/lib/python3.10/dist-packages/sklearn/cluster/_kmeans.py:870: FutureWarning: The default value of `n_init` will change from 10 to 'auto' in 1.4. Set the value of `n_init` explicitly to suppress the warning\n",
            "  warnings.warn(\n",
            "/usr/local/lib/python3.10/dist-packages/sklearn/cluster/_kmeans.py:870: FutureWarning: The default value of `n_init` will change from 10 to 'auto' in 1.4. Set the value of `n_init` explicitly to suppress the warning\n",
            "  warnings.warn(\n",
            "/usr/local/lib/python3.10/dist-packages/sklearn/cluster/_kmeans.py:870: FutureWarning: The default value of `n_init` will change from 10 to 'auto' in 1.4. Set the value of `n_init` explicitly to suppress the warning\n",
            "  warnings.warn(\n",
            "/usr/local/lib/python3.10/dist-packages/sklearn/cluster/_kmeans.py:870: FutureWarning: The default value of `n_init` will change from 10 to 'auto' in 1.4. Set the value of `n_init` explicitly to suppress the warning\n",
            "  warnings.warn(\n",
            "/usr/local/lib/python3.10/dist-packages/sklearn/cluster/_kmeans.py:870: FutureWarning: The default value of `n_init` will change from 10 to 'auto' in 1.4. Set the value of `n_init` explicitly to suppress the warning\n",
            "  warnings.warn(\n",
            "/usr/local/lib/python3.10/dist-packages/sklearn/cluster/_kmeans.py:870: FutureWarning: The default value of `n_init` will change from 10 to 'auto' in 1.4. Set the value of `n_init` explicitly to suppress the warning\n",
            "  warnings.warn(\n"
          ]
        },
        {
          "output_type": "display_data",
          "data": {
            "text/plain": [
              "<Figure size 640x480 with 1 Axes>"
            ],
            "image/png": "[encoded data removed]"
          },
          "metadata": {}
        }
      ]
    },
    {
      "cell_type": "markdown",
      "source": [
        "*Training The K-Means Model On The Dataset*"
      ],
      "metadata": {
        "id": "_9iLZVee5ac4"
      }
    },
    {
      "cell_type": "code",
      "source": [
        "# The number of clusters found is 4\n",
        "kmeans = KMeans(n_clusters = 4, init = 'k-means++', random_state = 42)\n",
        "kmeans.fit_predict(X_train)"
      ],
      "metadata": {
        "colab": {
          "base_uri": "https://localhost:8080/"
        },
        "id": "KGOzKySR5hg2",
        "outputId": "07789708-7cc3-40d6-98d6-75cfe2b80323"
      },
      "execution_count": 4,
      "outputs": [
        {
          "output_type": "stream",
          "name": "stderr",
          "text": [
            "/usr/local/lib/python3.10/dist-packages/sklearn/cluster/_kmeans.py:870: FutureWarning: The default value of `n_init` will change from 10 to 'auto' in 1.4. Set the value of `n_init` explicitly to suppress the warning\n",
            "  warnings.warn(\n"
          ]
        },
        {
          "output_type": "execute_result",
          "data": {
            "text/plain": [
              "array([1, 2, 1, ..., 3, 3, 2], dtype=int32)"
            ]
          },
          "metadata": {},
          "execution_count": 4
        }
      ]
    },
    {
      "cell_type": "markdown",
      "source": [
        "***Inout From User***"
      ],
      "metadata": {
        "id": "ud_FdmVn5RT0"
      }
    },
    {
      "cell_type": "code",
      "source": [
        "user_data_point_str = \"-77,-74,-71,-76,-65,-63,-66,-52,-55,-75,-72,-75,-74,-61,-64,-63,-53,-63\"\n",
        "                             # Inside the semicolon(\" \") User must put thei input seperated by comma(,)\n",
        "                             # Example: user_data_point_str = \"-72,-71,-64,-69,-64,-63,-61,-42,-55,-61,-69,-67,-63,-63,-55,-49,-49,-57\"\n",
        "\n",
        "user_data_point = list(map(float, user_data_point_str.split(',')))\n",
        "user_data_point = [user_data_point]  # Convert to a 2D array for prediction"
      ],
      "metadata": {
        "id": "gdQXf-blmxto"
      },
      "execution_count": 5,
      "outputs": []
    },
    {
      "cell_type": "markdown",
      "source": [
        "*Predicting The User Input Based On Model*"
      ],
      "metadata": {
        "id": "RUTK9nlx7cta"
      }
    },
    {
      "cell_type": "code",
      "source": [
        "predicted_cluster = kmeans.predict(user_data_point)\n",
        "\n",
        "print(f\"The data point {user_data_point} belongs to Cluster {predicted_cluster[0]}\")"
      ],
      "metadata": {
        "colab": {
          "base_uri": "https://localhost:8080/"
        },
        "id": "WPQ9WT9B7kaE",
        "outputId": "50b53448-7232-4cf8-8a23-4da96c4e9ec8"
      },
      "execution_count": 6,
      "outputs": [
        {
          "output_type": "stream",
          "name": "stdout",
          "text": [
            "The data point [[-77.0, -74.0, -71.0, -76.0, -65.0, -63.0, -66.0, -52.0, -55.0, -75.0, -72.0, -75.0, -74.0, -61.0, -64.0, -63.0, -53.0, -63.0]] belongs to Cluster 2\n"
          ]
        }
      ]
    },
    {
      "cell_type": "markdown",
      "source": [
        "**TASK-2**"
      ],
      "metadata": {
        "id": "4oBAZmhrgQf3"
      }
    },
    {
      "cell_type": "markdown",
      "source": [
        "**USING FEATURE SCALING**"
      ],
      "metadata": {
        "id": "pNZKejbOCHXF"
      }
    },
    {
      "cell_type": "code",
      "source": [
        "from sklearn.preprocessing import StandardScaler\n",
        "sc = StandardScaler()\n",
        "X_train_fs = sc.fit_transform(X_train)\n",
        "X_test_fs = sc.transform(X_test)"
      ],
      "metadata": {
        "colab": {
          "base_uri": "https://localhost:8080/"
        },
        "id": "1pK4VqVlCMty",
        "outputId": "e9c4ca74-704a-436e-a046-29a2c9d0af69"
      },
      "execution_count": 7,
      "outputs": [
        {
          "output_type": "stream",
          "name": "stderr",
          "text": [
            "/usr/local/lib/python3.10/dist-packages/sklearn/base.py:432: UserWarning: X has feature names, but StandardScaler was fitted without feature names\n",
            "  warnings.warn(\n"
          ]
        }
      ]
    },
    {
      "cell_type": "markdown",
      "source": [
        "**Training the KERNEL SVM model on the Training set**"
      ],
      "metadata": {
        "id": "0tG239_xDXd8"
      }
    },
    {
      "cell_type": "code",
      "source": [
        "from sklearn.svm import SVC\n",
        "classifier = SVC(kernel = 'rbf', random_state = 0)\n",
        "classifier.fit(X_train_fs, y_train)"
      ],
      "metadata": {
        "colab": {
          "base_uri": "https://localhost:8080/",
          "height": 74
        },
        "id": "Hc37NZmLDcJa",
        "outputId": "069c69ce-1f13-42ee-850c-e0d2f8d3b9ba"
      },
      "execution_count": 8,
      "outputs": [
        {
          "output_type": "execute_result",
          "data": {
            "text/plain": [
              "SVC(random_state=0)"
            ],
            "text/html": [
              "<style>#sk-container-id-1 {color: black;background-color: white;}#sk-container-id-1 pre{padding: 0;}#sk-container-id-1 div.sk-toggleable {background-color: white;}#sk-container-id-1 label.sk-toggleable__label {cursor: pointer;display: block;width: 100%;margin-bottom: 0;padding: 0.3em;box-sizing: border-box;text-align: center;}#sk-container-id-1 label.sk-toggleable__label-arrow:before {content: \"▸\";float: left;margin-right: 0.25em;color: #696969;}#sk-container-id-1 label.sk-toggleable__label-arrow:hover:before {color: black;}#sk-container-id-1 div.sk-estimator:hover label.sk-toggleable__label-arrow:before {color: black;}#sk-container-id-1 div.sk-toggleable__content {max-height: 0;max-width: 0;overflow: hidden;text-align: left;background-color: #f0f8ff;}#sk-container-id-1 div.sk-toggleable__content pre {margin: 0.2em;color: black;border-radius: 0.25em;background-color: #f0f8ff;}#sk-container-id-1 input.sk-toggleable__control:checked~div.sk-toggleable__content {max-height: 200px;max-width: 100%;overflow: auto;}#sk-container-id-1 input.sk-toggleable__control:checked~label.sk-toggleable__label-arrow:before {content: \"▾\";}#sk-container-id-1 div.sk-estimator input.sk-toggleable__control:checked~label.sk-toggleable__label {background-color: #d4ebff;}#sk-container-id-1 div.sk-label input.sk-toggleable__control:checked~label.sk-toggleable__label {background-color: #d4ebff;}#sk-container-id-1 input.sk-hidden--visually {border: 0;clip: rect(1px 1px 1px 1px);clip: rect(1px, 1px, 1px, 1px);height: 1px;margin: -1px;overflow: hidden;padding: 0;position: absolute;width: 1px;}#sk-container-id-1 div.sk-estimator {font-family: monospace;background-color: #f0f8ff;border: 1px dotted black;border-radius: 0.25em;box-sizing: border-box;margin-bottom: 0.5em;}#sk-container-id-1 div.sk-estimator:hover {background-color: #d4ebff;}#sk-container-id-1 div.sk-parallel-item::after {content: \"\";width: 100%;border-bottom: 1px solid gray;flex-grow: 1;}#sk-container-id-1 div.sk-label:hover label.sk-toggleable__label {background-color: #d4ebff;}#sk-container-id-1 div.sk-serial::before {content: \"\";position: absolute;border-left: 1px solid gray;box-sizing: border-box;top: 0;bottom: 0;left: 50%;z-index: 0;}#sk-container-id-1 div.sk-serial {display: flex;flex-direction: column;align-items: center;background-color: white;padding-right: 0.2em;padding-left: 0.2em;position: relative;}#sk-container-id-1 div.sk-item {position: relative;z-index: 1;}#sk-container-id-1 div.sk-parallel {display: flex;align-items: stretch;justify-content: center;background-color: white;position: relative;}#sk-container-id-1 div.sk-item::before, #sk-container-id-1 div.sk-parallel-item::before {content: \"\";position: absolute;border-left: 1px solid gray;box-sizing: border-box;top: 0;bottom: 0;left: 50%;z-index: -1;}#sk-container-id-1 div.sk-parallel-item {display: flex;flex-direction: column;z-index: 1;position: relative;background-color: white;}#sk-container-id-1 div.sk-parallel-item:first-child::after {align-self: flex-end;width: 50%;}#sk-container-id-1 div.sk-parallel-item:last-child::after {align-self: flex-start;width: 50%;}#sk-container-id-1 div.sk-parallel-item:only-child::after {width: 0;}#sk-container-id-1 div.sk-dashed-wrapped {border: 1px dashed gray;margin: 0 0.4em 0.5em 0.4em;box-sizing: border-box;padding-bottom: 0.4em;background-color: white;}#sk-container-id-1 div.sk-label label {font-family: monospace;font-weight: bold;display: inline-block;line-height: 1.2em;}#sk-container-id-1 div.sk-label-container {text-align: center;}#sk-container-id-1 div.sk-container {/* jupyter's `normalize.less` sets `[hidden] { display: none; }` but bootstrap.min.css set `[hidden] { display: none !important; }` so we also need the `!important` here to be able to override the default hidden behavior on the sphinx rendered scikit-learn.org. See: https://github.com/scikit-learn/scikit-learn/issues/21755 */display: inline-block !important;position: relative;}#sk-container-id-1 div.sk-text-repr-fallback {display: none;}</style><div id=\"sk-container-id-1\" class=\"sk-top-container\"><div class=\"sk-text-repr-fallback\"><pre>SVC(random_state=0)</pre><b>In a Jupyter environment, please rerun this cell to show the HTML representation or trust the notebook. <br />On GitHub, the HTML representation is unable to render, please try loading this page with nbviewer.org.</b></div><div class=\"sk-container\" hidden><div class=\"sk-item\"><div class=\"sk-estimator sk-toggleable\"><input class=\"sk-toggleable__control sk-hidden--visually\" id=\"sk-estimator-id-1\" type=\"checkbox\" checked><label for=\"sk-estimator-id-1\" class=\"sk-toggleable__label sk-toggleable__label-arrow\">SVC</label><div class=\"sk-toggleable__content\"><pre>SVC(random_state=0)</pre></div></div></div></div></div>"
            ]
          },
          "metadata": {},
          "execution_count": 8
        }
      ]
    },
    {
      "cell_type": "markdown",
      "source": [
        "*target values for the test*"
      ],
      "metadata": {
        "id": "yHtwj3HJR8cp"
      }
    },
    {
      "cell_type": "code",
      "source": [
        "y_pred_svm = classifier.predict(X_test_fs) # y_pred_svm is the target values for the test"
      ],
      "metadata": {
        "id": "5JnY3BcKUA3g"
      },
      "execution_count": 9,
      "outputs": []
    },
    {
      "cell_type": "markdown",
      "source": [
        "**TRAINING TEST SET ON NAIVE BAYES**"
      ],
      "metadata": {
        "id": "im5EmnE7Wc4D"
      }
    },
    {
      "cell_type": "code",
      "source": [
        "from sklearn.naive_bayes import GaussianNB\n",
        "classifier = GaussianNB()\n",
        "classifier.fit(X_train_fs, y_train)"
      ],
      "metadata": {
        "colab": {
          "base_uri": "https://localhost:8080/",
          "height": 74
        },
        "id": "K4t7RCEeXYE2",
        "outputId": "8cd5ce52-85df-4d07-fd00-27fd8667197b"
      },
      "execution_count": 10,
      "outputs": [
        {
          "output_type": "execute_result",
          "data": {
            "text/plain": [
              "GaussianNB()"
            ],
            "text/html": [
              "<style>#sk-container-id-2 {color: black;background-color: white;}#sk-container-id-2 pre{padding: 0;}#sk-container-id-2 div.sk-toggleable {background-color: white;}#sk-container-id-2 label.sk-toggleable__label {cursor: pointer;display: block;width: 100%;margin-bottom: 0;padding: 0.3em;box-sizing: border-box;text-align: center;}#sk-container-id-2 label.sk-toggleable__label-arrow:before {content: \"▸\";float: left;margin-right: 0.25em;color: #696969;}#sk-container-id-2 label.sk-toggleable__label-arrow:hover:before {color: black;}#sk-container-id-2 div.sk-estimator:hover label.sk-toggleable__label-arrow:before {color: black;}#sk-container-id-2 div.sk-toggleable__content {max-height: 0;max-width: 0;overflow: hidden;text-align: left;background-color: #f0f8ff;}#sk-container-id-2 div.sk-toggleable__content pre {margin: 0.2em;color: black;border-radius: 0.25em;background-color: #f0f8ff;}#sk-container-id-2 input.sk-toggleable__control:checked~div.sk-toggleable__content {max-height: 200px;max-width: 100%;overflow: auto;}#sk-container-id-2 input.sk-toggleable__control:checked~label.sk-toggleable__label-arrow:before {content: \"▾\";}#sk-container-id-2 div.sk-estimator input.sk-toggleable__control:checked~label.sk-toggleable__label {background-color: #d4ebff;}#sk-container-id-2 div.sk-label input.sk-toggleable__control:checked~label.sk-toggleable__label {background-color: #d4ebff;}#sk-container-id-2 input.sk-hidden--visually {border: 0;clip: rect(1px 1px 1px 1px);clip: rect(1px, 1px, 1px, 1px);height: 1px;margin: -1px;overflow: hidden;padding: 0;position: absolute;width: 1px;}#sk-container-id-2 div.sk-estimator {font-family: monospace;background-color: #f0f8ff;border: 1px dotted black;border-radius: 0.25em;box-sizing: border-box;margin-bottom: 0.5em;}#sk-container-id-2 div.sk-estimator:hover {background-color: #d4ebff;}#sk-container-id-2 div.sk-parallel-item::after {content: \"\";width: 100%;border-bottom: 1px solid gray;flex-grow: 1;}#sk-container-id-2 div.sk-label:hover label.sk-toggleable__label {background-color: #d4ebff;}#sk-container-id-2 div.sk-serial::before {content: \"\";position: absolute;border-left: 1px solid gray;box-sizing: border-box;top: 0;bottom: 0;left: 50%;z-index: 0;}#sk-container-id-2 div.sk-serial {display: flex;flex-direction: column;align-items: center;background-color: white;padding-right: 0.2em;padding-left: 0.2em;position: relative;}#sk-container-id-2 div.sk-item {position: relative;z-index: 1;}#sk-container-id-2 div.sk-parallel {display: flex;align-items: stretch;justify-content: center;background-color: white;position: relative;}#sk-container-id-2 div.sk-item::before, #sk-container-id-2 div.sk-parallel-item::before {content: \"\";position: absolute;border-left: 1px solid gray;box-sizing: border-box;top: 0;bottom: 0;left: 50%;z-index: -1;}#sk-container-id-2 div.sk-parallel-item {display: flex;flex-direction: column;z-index: 1;position: relative;background-color: white;}#sk-container-id-2 div.sk-parallel-item:first-child::after {align-self: flex-end;width: 50%;}#sk-container-id-2 div.sk-parallel-item:last-child::after {align-self: flex-start;width: 50%;}#sk-container-id-2 div.sk-parallel-item:only-child::after {width: 0;}#sk-container-id-2 div.sk-dashed-wrapped {border: 1px dashed gray;margin: 0 0.4em 0.5em 0.4em;box-sizing: border-box;padding-bottom: 0.4em;background-color: white;}#sk-container-id-2 div.sk-label label {font-family: monospace;font-weight: bold;display: inline-block;line-height: 1.2em;}#sk-container-id-2 div.sk-label-container {text-align: center;}#sk-container-id-2 div.sk-container {/* jupyter's `normalize.less` sets `[hidden] { display: none; }` but bootstrap.min.css set `[hidden] { display: none !important; }` so we also need the `!important` here to be able to override the default hidden behavior on the sphinx rendered scikit-learn.org. See: https://github.com/scikit-learn/scikit-learn/issues/21755 */display: inline-block !important;position: relative;}#sk-container-id-2 div.sk-text-repr-fallback {display: none;}</style><div id=\"sk-container-id-2\" class=\"sk-top-container\"><div class=\"sk-text-repr-fallback\"><pre>GaussianNB()</pre><b>In a Jupyter environment, please rerun this cell to show the HTML representation or trust the notebook. <br />On GitHub, the HTML representation is unable to render, please try loading this page with nbviewer.org.</b></div><div class=\"sk-container\" hidden><div class=\"sk-item\"><div class=\"sk-estimator sk-toggleable\"><input class=\"sk-toggleable__control sk-hidden--visually\" id=\"sk-estimator-id-2\" type=\"checkbox\" checked><label for=\"sk-estimator-id-2\" class=\"sk-toggleable__label sk-toggleable__label-arrow\">GaussianNB</label><div class=\"sk-toggleable__content\"><pre>GaussianNB()</pre></div></div></div></div></div>"
            ]
          },
          "metadata": {},
          "execution_count": 10
        }
      ]
    },
    {
      "cell_type": "markdown",
      "source": [
        "*target values for the test*"
      ],
      "metadata": {
        "id": "IO60lKgdaQRL"
      }
    },
    {
      "cell_type": "code",
      "source": [
        "y_pred_nb = classifier.predict(X_test_fs) # y_pred_nb is the target values for the test"
      ],
      "metadata": {
        "id": "3dhcdhZjae9P"
      },
      "execution_count": 11,
      "outputs": []
    },
    {
      "cell_type": "markdown",
      "source": [
        "**RANDOM FOREST CLASSIFICATION**"
      ],
      "metadata": {
        "id": "j_oZWXdaa3zH"
      }
    },
    {
      "cell_type": "code",
      "source": [
        "from sklearn.ensemble import RandomForestClassifier\n",
        "classifier = RandomForestClassifier(n_estimators = 30, criterion = 'entropy', random_state = 0)\n",
        "classifier.fit(X_train_fs, y_train)"
      ],
      "metadata": {
        "colab": {
          "base_uri": "https://localhost:8080/",
          "height": 74
        },
        "id": "NZhGfh7xbXUq",
        "outputId": "3c22d54a-6f34-4e84-80b5-7a6acd0c900c"
      },
      "execution_count": 12,
      "outputs": [
        {
          "output_type": "execute_result",
          "data": {
            "text/plain": [
              "RandomForestClassifier(criterion='entropy', n_estimators=30, random_state=0)"
            ],
            "text/html": [
              "<style>#sk-container-id-3 {color: black;background-color: white;}#sk-container-id-3 pre{padding: 0;}#sk-container-id-3 div.sk-toggleable {background-color: white;}#sk-container-id-3 label.sk-toggleable__label {cursor: pointer;display: block;width: 100%;margin-bottom: 0;padding: 0.3em;box-sizing: border-box;text-align: center;}#sk-container-id-3 label.sk-toggleable__label-arrow:before {content: \"▸\";float: left;margin-right: 0.25em;color: #696969;}#sk-container-id-3 label.sk-toggleable__label-arrow:hover:before {color: black;}#sk-container-id-3 div.sk-estimator:hover label.sk-toggleable__label-arrow:before {color: black;}#sk-container-id-3 div.sk-toggleable__content {max-height: 0;max-width: 0;overflow: hidden;text-align: left;background-color: #f0f8ff;}#sk-container-id-3 div.sk-toggleable__content pre {margin: 0.2em;color: black;border-radius: 0.25em;background-color: #f0f8ff;}#sk-container-id-3 input.sk-toggleable__control:checked~div.sk-toggleable__content {max-height: 200px;max-width: 100%;overflow: auto;}#sk-container-id-3 input.sk-toggleable__control:checked~label.sk-toggleable__label-arrow:before {content: \"▾\";}#sk-container-id-3 div.sk-estimator input.sk-toggleable__control:checked~label.sk-toggleable__label {background-color: #d4ebff;}#sk-container-id-3 div.sk-label input.sk-toggleable__control:checked~label.sk-toggleable__label {background-color: #d4ebff;}#sk-container-id-3 input.sk-hidden--visually {border: 0;clip: rect(1px 1px 1px 1px);clip: rect(1px, 1px, 1px, 1px);height: 1px;margin: -1px;overflow: hidden;padding: 0;position: absolute;width: 1px;}#sk-container-id-3 div.sk-estimator {font-family: monospace;background-color: #f0f8ff;border: 1px dotted black;border-radius: 0.25em;box-sizing: border-box;margin-bottom: 0.5em;}#sk-container-id-3 div.sk-estimator:hover {background-color: #d4ebff;}#sk-container-id-3 div.sk-parallel-item::after {content: \"\";width: 100%;border-bottom: 1px solid gray;flex-grow: 1;}#sk-container-id-3 div.sk-label:hover label.sk-toggleable__label {background-color: #d4ebff;}#sk-container-id-3 div.sk-serial::before {content: \"\";position: absolute;border-left: 1px solid gray;box-sizing: border-box;top: 0;bottom: 0;left: 50%;z-index: 0;}#sk-container-id-3 div.sk-serial {display: flex;flex-direction: column;align-items: center;background-color: white;padding-right: 0.2em;padding-left: 0.2em;position: relative;}#sk-container-id-3 div.sk-item {position: relative;z-index: 1;}#sk-container-id-3 div.sk-parallel {display: flex;align-items: stretch;justify-content: center;background-color: white;position: relative;}#sk-container-id-3 div.sk-item::before, #sk-container-id-3 div.sk-parallel-item::before {content: \"\";position: absolute;border-left: 1px solid gray;box-sizing: border-box;top: 0;bottom: 0;left: 50%;z-index: -1;}#sk-container-id-3 div.sk-parallel-item {display: flex;flex-direction: column;z-index: 1;position: relative;background-color: white;}#sk-container-id-3 div.sk-parallel-item:first-child::after {align-self: flex-end;width: 50%;}#sk-container-id-3 div.sk-parallel-item:last-child::after {align-self: flex-start;width: 50%;}#sk-container-id-3 div.sk-parallel-item:only-child::after {width: 0;}#sk-container-id-3 div.sk-dashed-wrapped {border: 1px dashed gray;margin: 0 0.4em 0.5em 0.4em;box-sizing: border-box;padding-bottom: 0.4em;background-color: white;}#sk-container-id-3 div.sk-label label {font-family: monospace;font-weight: bold;display: inline-block;line-height: 1.2em;}#sk-container-id-3 div.sk-label-container {text-align: center;}#sk-container-id-3 div.sk-container {/* jupyter's `normalize.less` sets `[hidden] { display: none; }` but bootstrap.min.css set `[hidden] { display: none !important; }` so we also need the `!important` here to be able to override the default hidden behavior on the sphinx rendered scikit-learn.org. See: https://github.com/scikit-learn/scikit-learn/issues/21755 */display: inline-block !important;position: relative;}#sk-container-id-3 div.sk-text-repr-fallback {display: none;}</style><div id=\"sk-container-id-3\" class=\"sk-top-container\"><div class=\"sk-text-repr-fallback\"><pre>RandomForestClassifier(criterion=&#x27;entropy&#x27;, n_estimators=30, random_state=0)</pre><b>In a Jupyter environment, please rerun this cell to show the HTML representation or trust the notebook. <br />On GitHub, the HTML representation is unable to render, please try loading this page with nbviewer.org.</b></div><div class=\"sk-container\" hidden><div class=\"sk-item\"><div class=\"sk-estimator sk-toggleable\"><input class=\"sk-toggleable__control sk-hidden--visually\" id=\"sk-estimator-id-3\" type=\"checkbox\" checked><label for=\"sk-estimator-id-3\" class=\"sk-toggleable__label sk-toggleable__label-arrow\">RandomForestClassifier</label><div class=\"sk-toggleable__content\"><pre>RandomForestClassifier(criterion=&#x27;entropy&#x27;, n_estimators=30, random_state=0)</pre></div></div></div></div></div>"
            ]
          },
          "metadata": {},
          "execution_count": 12
        }
      ]
    },
    {
      "cell_type": "markdown",
      "source": [
        "*Target Values For The Test*"
      ],
      "metadata": {
        "id": "d7tBCrSBcK_w"
      }
    },
    {
      "cell_type": "code",
      "source": [
        "y_pred = classifier.predict(X_test_fs)\n"
      ],
      "metadata": {
        "id": "HyyYnpUicRbg"
      },
      "execution_count": 13,
      "outputs": []
    },
    {
      "cell_type": "markdown",
      "source": [
        "**ARTIFICIAL NEURAL NETWOR BASED CLASSIFICATION MODEL**"
      ],
      "metadata": {
        "id": "tBZBLHkdRMuc"
      }
    },
    {
      "cell_type": "markdown",
      "source": [
        "*Building The ANN Model*"
      ],
      "metadata": {
        "id": "w8xNPzVIR1X0"
      }
    },
    {
      "cell_type": "code",
      "source": [
        "ann = tf.keras.models.Sequential()\n",
        "ann.add(tf.keras.layers.Dense(units=6, activation='relu'))\n",
        "ann.add(tf.keras.layers.Dense(units=6, activation='relu'))\n",
        "ann.add(tf.keras.layers.Dense(units=1, activation='sigmoid'))\n"
      ],
      "metadata": {
        "id": "GpG8Uhk4RZFs"
      },
      "execution_count": 14,
      "outputs": []
    },
    {
      "cell_type": "markdown",
      "source": [
        "*Using Label Encoding For y_train*"
      ],
      "metadata": {
        "id": "JixGKOgpTb4_"
      }
    },
    {
      "cell_type": "code",
      "source": [
        "from sklearn.preprocessing import LabelEncoder\n",
        "le = LabelEncoder()\n",
        "y_train_le = le.fit_transform(y_train)\n",
        "print(y_train_le)"
      ],
      "metadata": {
        "colab": {
          "base_uri": "https://localhost:8080/"
        },
        "id": "41KmNFopTn29",
        "outputId": "e5275002-72a7-419a-dd53-65028f682fdf"
      },
      "execution_count": 15,
      "outputs": [
        {
          "output_type": "stream",
          "name": "stdout",
          "text": [
            "[110 137  10 ...  55  91 119]\n"
          ]
        }
      ]
    },
    {
      "cell_type": "markdown",
      "source": [
        "*Training The ANN Model*"
      ],
      "metadata": {
        "id": "js_Zoi55R6zu"
      }
    },
    {
      "cell_type": "code",
      "source": [
        "ann.compile(optimizer = 'rmsprop', loss = 'binary_crossentropy' , metrics = ['accuracy'])\n",
        "ann.fit(X_train, y_train_le, batch_size = 100, epochs = 100)\n"
      ],
      "metadata": {
        "colab": {
          "base_uri": "https://localhost:8080/"
        },
        "id": "osky19NFSFZO",
        "outputId": "52a4f9f8-686d-420f-cd83-88c31aa0f356"
      },
      "execution_count": 16,
      "outputs": [
        {
          "output_type": "stream",
          "name": "stdout",
          "text": [
            "Epoch 1/100\n",
            "368/368 [==============================] - 1s 2ms/step - loss: -66195.8359 - accuracy: 0.0056\n",
            "Epoch 2/100\n",
            "368/368 [==============================] - 1s 2ms/step - loss: -482118.0938 - accuracy: 0.0056\n",
            "Epoch 3/100\n",
            "368/368 [==============================] - 1s 2ms/step - loss: -1583163.8750 - accuracy: 0.0056\n",
            "Epoch 4/100\n",
            "368/368 [==============================] - 1s 2ms/step - loss: -3688708.2500 - accuracy: 0.0056\n",
            "Epoch 5/100\n",
            "368/368 [==============================] - 1s 2ms/step - loss: -7122976.0000 - accuracy: 0.0056\n",
            "Epoch 6/100\n",
            "368/368 [==============================] - 1s 2ms/step - loss: -12198463.0000 - accuracy: 0.0056\n",
            "Epoch 7/100\n",
            "368/368 [==============================] - 1s 2ms/step - loss: -19240954.0000 - accuracy: 0.0056\n",
            "Epoch 8/100\n",
            "368/368 [==============================] - 1s 3ms/step - loss: -28530704.0000 - accuracy: 0.0056\n",
            "Epoch 9/100\n",
            "368/368 [==============================] - 1s 3ms/step - loss: -40453208.0000 - accuracy: 0.0056\n",
            "Epoch 10/100\n",
            "368/368 [==============================] - 1s 2ms/step - loss: -55245812.0000 - accuracy: 0.0056\n",
            "Epoch 11/100\n",
            "368/368 [==============================] - 1s 2ms/step - loss: -73272136.0000 - accuracy: 0.0056\n",
            "Epoch 12/100\n",
            "368/368 [==============================] - 1s 2ms/step - loss: -94841392.0000 - accuracy: 0.0056\n",
            "Epoch 13/100\n",
            "368/368 [==============================] - 1s 2ms/step - loss: -120292144.0000 - accuracy: 0.0056\n",
            "Epoch 14/100\n",
            "368/368 [==============================] - 1s 2ms/step - loss: -149951712.0000 - accuracy: 0.0056\n",
            "Epoch 15/100\n",
            "368/368 [==============================] - 1s 2ms/step - loss: -184098320.0000 - accuracy: 0.0056\n",
            "Epoch 16/100\n",
            "368/368 [==============================] - 1s 2ms/step - loss: -222990752.0000 - accuracy: 0.0056\n",
            "Epoch 17/100\n",
            "368/368 [==============================] - 1s 2ms/step - loss: -267031232.0000 - accuracy: 0.0056\n",
            "Epoch 18/100\n",
            "368/368 [==============================] - 1s 2ms/step - loss: -316527008.0000 - accuracy: 0.0056\n",
            "Epoch 19/100\n",
            "368/368 [==============================] - 1s 2ms/step - loss: -371779904.0000 - accuracy: 0.0056\n",
            "Epoch 20/100\n",
            "368/368 [==============================] - 1s 2ms/step - loss: -433054112.0000 - accuracy: 0.0056\n",
            "Epoch 21/100\n",
            "368/368 [==============================] - 1s 2ms/step - loss: -500774368.0000 - accuracy: 0.0056\n",
            "Epoch 22/100\n",
            "368/368 [==============================] - 1s 2ms/step - loss: -575253184.0000 - accuracy: 0.0056\n",
            "Epoch 23/100\n",
            "368/368 [==============================] - 1s 2ms/step - loss: -656395264.0000 - accuracy: 0.0056\n",
            "Epoch 24/100\n",
            "368/368 [==============================] - 1s 2ms/step - loss: -745329536.0000 - accuracy: 0.0056\n",
            "Epoch 25/100\n",
            "368/368 [==============================] - 1s 2ms/step - loss: -841698112.0000 - accuracy: 0.0056\n",
            "Epoch 26/100\n",
            "368/368 [==============================] - 1s 2ms/step - loss: -945840704.0000 - accuracy: 0.0056\n",
            "Epoch 27/100\n",
            "368/368 [==============================] - 1s 2ms/step - loss: -1058577408.0000 - accuracy: 0.0056\n",
            "Epoch 28/100\n",
            "368/368 [==============================] - 1s 2ms/step - loss: -1179992192.0000 - accuracy: 0.0056\n",
            "Epoch 29/100\n",
            "368/368 [==============================] - 1s 2ms/step - loss: -1309856128.0000 - accuracy: 0.0056\n",
            "Epoch 30/100\n",
            "368/368 [==============================] - 1s 2ms/step - loss: -1449136128.0000 - accuracy: 0.0056\n",
            "Epoch 31/100\n",
            "368/368 [==============================] - 1s 2ms/step - loss: -1598128896.0000 - accuracy: 0.0056\n",
            "Epoch 32/100\n",
            "368/368 [==============================] - 1s 2ms/step - loss: -1757120000.0000 - accuracy: 0.0056\n",
            "Epoch 33/100\n",
            "368/368 [==============================] - 1s 2ms/step - loss: -1925980544.0000 - accuracy: 0.0056\n",
            "Epoch 34/100\n",
            "368/368 [==============================] - 1s 2ms/step - loss: -2105428480.0000 - accuracy: 0.0056\n",
            "Epoch 35/100\n",
            "368/368 [==============================] - 1s 2ms/step - loss: -2295383552.0000 - accuracy: 0.0056\n",
            "Epoch 36/100\n",
            "368/368 [==============================] - 1s 2ms/step - loss: -2496785408.0000 - accuracy: 0.0056\n",
            "Epoch 37/100\n",
            "368/368 [==============================] - 1s 2ms/step - loss: -2709377792.0000 - accuracy: 0.0056\n",
            "Epoch 38/100\n",
            "368/368 [==============================] - 1s 2ms/step - loss: -2933888512.0000 - accuracy: 0.0056\n",
            "Epoch 39/100\n",
            "368/368 [==============================] - 1s 2ms/step - loss: -3170443520.0000 - accuracy: 0.0056\n",
            "Epoch 40/100\n",
            "368/368 [==============================] - 1s 2ms/step - loss: -3419136768.0000 - accuracy: 0.0056\n",
            "Epoch 41/100\n",
            "368/368 [==============================] - 1s 2ms/step - loss: -3681014528.0000 - accuracy: 0.0056\n",
            "Epoch 42/100\n",
            "368/368 [==============================] - 1s 2ms/step - loss: -3955720448.0000 - accuracy: 0.0056\n",
            "Epoch 43/100\n",
            "368/368 [==============================] - 1s 2ms/step - loss: -4244508160.0000 - accuracy: 0.0056\n",
            "Epoch 44/100\n",
            "368/368 [==============================] - 1s 2ms/step - loss: -4544983552.0000 - accuracy: 0.0056\n",
            "Epoch 45/100\n",
            "368/368 [==============================] - 1s 2ms/step - loss: -4861217792.0000 - accuracy: 0.0056\n",
            "Epoch 46/100\n",
            "368/368 [==============================] - 1s 2ms/step - loss: -5190683648.0000 - accuracy: 0.0056\n",
            "Epoch 47/100\n",
            "368/368 [==============================] - 1s 3ms/step - loss: -5534685696.0000 - accuracy: 0.0056\n",
            "Epoch 48/100\n",
            "368/368 [==============================] - 1s 2ms/step - loss: -5893593088.0000 - accuracy: 0.0056\n",
            "Epoch 49/100\n",
            "368/368 [==============================] - 1s 2ms/step - loss: -6268717056.0000 - accuracy: 0.0056\n",
            "Epoch 50/100\n",
            "368/368 [==============================] - 1s 2ms/step - loss: -6658783744.0000 - accuracy: 0.0056\n",
            "Epoch 51/100\n",
            "368/368 [==============================] - 1s 2ms/step - loss: -7064954880.0000 - accuracy: 0.0056\n",
            "Epoch 52/100\n",
            "368/368 [==============================] - 1s 2ms/step - loss: -7486865920.0000 - accuracy: 0.0056\n",
            "Epoch 53/100\n",
            "368/368 [==============================] - 1s 2ms/step - loss: -7924764672.0000 - accuracy: 0.0056\n",
            "Epoch 54/100\n",
            "368/368 [==============================] - 1s 2ms/step - loss: -8381422592.0000 - accuracy: 0.0056\n",
            "Epoch 55/100\n",
            "368/368 [==============================] - 1s 2ms/step - loss: -8852552704.0000 - accuracy: 0.0056\n",
            "Epoch 56/100\n",
            "368/368 [==============================] - 1s 2ms/step - loss: -9342167040.0000 - accuracy: 0.0056\n",
            "Epoch 57/100\n",
            "368/368 [==============================] - 1s 2ms/step - loss: -9849692160.0000 - accuracy: 0.0056\n",
            "Epoch 58/100\n",
            "368/368 [==============================] - 1s 2ms/step - loss: -10376055808.0000 - accuracy: 0.0056\n",
            "Epoch 59/100\n",
            "368/368 [==============================] - 1s 2ms/step - loss: -10918451200.0000 - accuracy: 0.0056\n",
            "Epoch 60/100\n",
            "368/368 [==============================] - 1s 2ms/step - loss: -11482487808.0000 - accuracy: 0.0056\n",
            "Epoch 61/100\n",
            "368/368 [==============================] - 1s 2ms/step - loss: -12063501312.0000 - accuracy: 0.0056\n",
            "Epoch 62/100\n",
            "368/368 [==============================] - 1s 2ms/step - loss: -12665226240.0000 - accuracy: 0.0056\n",
            "Epoch 63/100\n",
            "368/368 [==============================] - 1s 2ms/step - loss: -13284905984.0000 - accuracy: 0.0056\n",
            "Epoch 64/100\n",
            "368/368 [==============================] - 1s 2ms/step - loss: -13925197824.0000 - accuracy: 0.0056\n",
            "Epoch 65/100\n",
            "368/368 [==============================] - 1s 3ms/step - loss: -14585736192.0000 - accuracy: 0.0056\n",
            "Epoch 66/100\n",
            "368/368 [==============================] - 1s 3ms/step - loss: -15267315712.0000 - accuracy: 0.0056\n",
            "Epoch 67/100\n",
            "368/368 [==============================] - 1s 2ms/step - loss: -15970182144.0000 - accuracy: 0.0056\n",
            "Epoch 68/100\n",
            "368/368 [==============================] - 1s 2ms/step - loss: -16692870144.0000 - accuracy: 0.0056\n",
            "Epoch 69/100\n",
            "368/368 [==============================] - 1s 2ms/step - loss: -17437741056.0000 - accuracy: 0.0056\n",
            "Epoch 70/100\n",
            "368/368 [==============================] - 1s 2ms/step - loss: -18204672000.0000 - accuracy: 0.0056\n",
            "Epoch 71/100\n",
            "368/368 [==============================] - 1s 2ms/step - loss: -18993721344.0000 - accuracy: 0.0056\n",
            "Epoch 72/100\n",
            "368/368 [==============================] - 1s 2ms/step - loss: -19806228480.0000 - accuracy: 0.0056\n",
            "Epoch 73/100\n",
            "368/368 [==============================] - 1s 2ms/step - loss: -20639963136.0000 - accuracy: 0.0056\n",
            "Epoch 74/100\n",
            "368/368 [==============================] - 1s 2ms/step - loss: -21497030656.0000 - accuracy: 0.0056\n",
            "Epoch 75/100\n",
            "368/368 [==============================] - 1s 2ms/step - loss: -22377582592.0000 - accuracy: 0.0056\n",
            "Epoch 76/100\n",
            "368/368 [==============================] - 1s 2ms/step - loss: -23281438720.0000 - accuracy: 0.0056\n",
            "Epoch 77/100\n",
            "368/368 [==============================] - 1s 2ms/step - loss: -24210911232.0000 - accuracy: 0.0056\n",
            "Epoch 78/100\n",
            "368/368 [==============================] - 1s 2ms/step - loss: -25160654848.0000 - accuracy: 0.0056\n",
            "Epoch 79/100\n",
            "368/368 [==============================] - 1s 2ms/step - loss: -26140059648.0000 - accuracy: 0.0056\n",
            "Epoch 80/100\n",
            "368/368 [==============================] - 1s 2ms/step - loss: -27142037504.0000 - accuracy: 0.0056\n",
            "Epoch 81/100\n",
            "368/368 [==============================] - 1s 2ms/step - loss: -28169897984.0000 - accuracy: 0.0056\n",
            "Epoch 82/100\n",
            "368/368 [==============================] - 1s 2ms/step - loss: -29221603328.0000 - accuracy: 0.0056\n",
            "Epoch 83/100\n",
            "368/368 [==============================] - 1s 3ms/step - loss: -30301560832.0000 - accuracy: 0.0056\n",
            "Epoch 84/100\n",
            "368/368 [==============================] - 1s 2ms/step - loss: -31407429632.0000 - accuracy: 0.0056\n",
            "Epoch 85/100\n",
            "368/368 [==============================] - 1s 2ms/step - loss: -32538011648.0000 - accuracy: 0.0056\n",
            "Epoch 86/100\n",
            "368/368 [==============================] - 1s 2ms/step - loss: -33697363968.0000 - accuracy: 0.0056\n",
            "Epoch 87/100\n",
            "368/368 [==============================] - 1s 2ms/step - loss: -34884489216.0000 - accuracy: 0.0056\n",
            "Epoch 88/100\n",
            "368/368 [==============================] - 1s 2ms/step - loss: -36096516096.0000 - accuracy: 0.0056\n",
            "Epoch 89/100\n",
            "368/368 [==============================] - 1s 2ms/step - loss: -37340479488.0000 - accuracy: 0.0056\n",
            "Epoch 90/100\n",
            "368/368 [==============================] - 1s 2ms/step - loss: -38606090240.0000 - accuracy: 0.0056\n",
            "Epoch 91/100\n",
            "368/368 [==============================] - 1s 2ms/step - loss: -39906983936.0000 - accuracy: 0.0056\n",
            "Epoch 92/100\n",
            "368/368 [==============================] - 1s 2ms/step - loss: -41232826368.0000 - accuracy: 0.0056\n",
            "Epoch 93/100\n",
            "368/368 [==============================] - 1s 2ms/step - loss: -42589749248.0000 - accuracy: 0.0056\n",
            "Epoch 94/100\n",
            "368/368 [==============================] - 1s 2ms/step - loss: -43972665344.0000 - accuracy: 0.0056\n",
            "Epoch 95/100\n",
            "368/368 [==============================] - 1s 2ms/step - loss: -45389836288.0000 - accuracy: 0.0056\n",
            "Epoch 96/100\n",
            "368/368 [==============================] - 1s 2ms/step - loss: -46833528832.0000 - accuracy: 0.0056\n",
            "Epoch 97/100\n",
            "368/368 [==============================] - 1s 2ms/step - loss: -48309190656.0000 - accuracy: 0.0056\n",
            "Epoch 98/100\n",
            "368/368 [==============================] - 1s 2ms/step - loss: -49812402176.0000 - accuracy: 0.0056\n",
            "Epoch 99/100\n",
            "368/368 [==============================] - 1s 2ms/step - loss: -51349901312.0000 - accuracy: 0.0056\n",
            "Epoch 100/100\n",
            "368/368 [==============================] - 1s 2ms/step - loss: -52919275520.0000 - accuracy: 0.0056\n"
          ]
        },
        {
          "output_type": "execute_result",
          "data": {
            "text/plain": [
              "<keras.src.callbacks.History at 0x7f2a7767f970>"
            ]
          },
          "metadata": {},
          "execution_count": 16
        }
      ]
    },
    {
      "cell_type": "markdown",
      "source": [
        "*target values for the test*"
      ],
      "metadata": {
        "id": "cbUAeNqzaPBN"
      }
    },
    {
      "cell_type": "code",
      "source": [
        "y_pred = ann.predict(X_test_fs)\n",
        "y_pred = (y_pred > 0.5)\n"
      ],
      "metadata": {
        "id": "eXC4HeccaXWw",
        "colab": {
          "base_uri": "https://localhost:8080/"
        },
        "outputId": "478a98d0-f21d-4c27-caf9-719c359fdc4f"
      },
      "execution_count": 17,
      "outputs": [
        {
          "output_type": "stream",
          "name": "stdout",
          "text": [
            "493/493 [==============================] - 1s 2ms/step\n"
          ]
        }
      ]
    },
    {
      "cell_type": "markdown",
      "source": [
        "**TASK 3**"
      ],
      "metadata": {
        "id": "AxUDop9IbHzJ"
      }
    },
    {
      "cell_type": "code",
      "source": [
        "dataset = pd.read_excel('rawdata.xlsx')\n",
        "dataset['datetime'] = pd.to_datetime(dataset['date'])\n",
        "\n",
        "# Dropping The Unnecessary Columns\n",
        "\n",
        "dataset = dataset.drop(['date', 'time'], axis=1)\n",
        "\n",
        "# Filtering Rows With 'placed' Activity For Inside And Outside\n",
        "\n",
        "inside_placed = dataset[(dataset['activity'] == 'placed') & (dataset['position'].str.lower() == 'inside')]\n",
        "outside_placed = dataset[(dataset['activity'] == 'placed') & (dataset['position'].str.lower() == 'outside')]\n",
        "\n",
        "# Calculating Date-Wise Total Duration For Inside And Outside\n",
        "\n",
        "inside_duration = inside_placed.groupby(inside_placed['datetime'].dt.date)['number'].count()\n",
        "outside_duration = outside_placed.groupby(outside_placed['datetime'].dt.date)['number'].count()\n",
        "\n",
        "# Filtering Rows With 'picked' Activity For Inside And Outside\n",
        "\n",
        "inside_picked = dataset[(dataset['activity'] == 'picked') & (dataset['position'].str.lower() == 'inside')]\n",
        "outside_picked = dataset[(dataset['activity'] == 'picked') & (dataset['position'].str.lower() == 'outside')]\n",
        "\n",
        "# Calculating Date-Wise Number Of Picking Activities For Inside And Outside\n",
        "\n",
        "inside_picking_count = inside_picked.groupby(inside_picked['datetime'].dt.date)['number'].count()\n",
        "outside_picking_count = outside_picked.groupby(outside_picked['datetime'].dt.date)['number'].count()"
      ],
      "metadata": {
        "id": "jx63_qF0bMPj"
      },
      "execution_count": 18,
      "outputs": []
    },
    {
      "cell_type": "markdown",
      "source": [
        "**Display The Results**"
      ],
      "metadata": {
        "id": "J_Vh8LaTWilz"
      }
    },
    {
      "cell_type": "code",
      "source": [
        "print(\"Date-wise Total Duration for Inside:\")\n",
        "print(inside_duration)\n",
        "\n",
        "print(\"\\nDate-wise Total Duration for Outside:\")\n",
        "print(outside_duration)\n",
        "\n",
        "print(\"\\nDate-wise Number of Picking Activities for Inside:\")\n",
        "print(inside_picking_count)\n",
        "\n",
        "print(\"\\nDate-wise Number of Picking Activities for Outside:\")\n",
        "print(outside_picking_count)\n"
      ],
      "metadata": {
        "colab": {
          "base_uri": "https://localhost:8080/"
        },
        "id": "InjRVx7MWsrU",
        "outputId": "9b2d9cdb-5bf5-4c91-bf2f-f7e5a7218291"
      },
      "execution_count": 19,
      "outputs": [
        {
          "output_type": "stream",
          "name": "stdout",
          "text": [
            "Date-wise Total Duration for Inside:\n",
            "datetime\n",
            "2024-01-16    40\n",
            "2024-01-17     9\n",
            "2024-01-18    38\n",
            "Name: number, dtype: int64\n",
            "\n",
            "Date-wise Total Duration for Outside:\n",
            "datetime\n",
            "2024-01-18    1\n",
            "Name: number, dtype: int64\n",
            "\n",
            "Date-wise Number of Picking Activities for Inside:\n",
            "datetime\n",
            "2024-01-16    40\n",
            "2024-01-17    10\n",
            "2024-01-18    34\n",
            "Name: number, dtype: int64\n",
            "\n",
            "Date-wise Number of Picking Activities for Outside:\n",
            "datetime\n",
            "2024-01-18    3\n",
            "Name: number, dtype: int64\n"
          ]
        }
      ]
    }
  ]
}